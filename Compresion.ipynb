{
 "cells": [
  {
   "cell_type": "code",
   "execution_count": 12,
   "id": "88749573-0be3-47a3-9835-9b69a7b6238c",
   "metadata": {},
   "outputs": [],
   "source": [
    "from PIL import Image\n",
    "import os"
   ]
  },
  {
   "cell_type": "code",
   "execution_count": 13,
   "id": "f7adcd15-e41f-49b1-aed4-f5736885c006",
   "metadata": {},
   "outputs": [],
   "source": [
    "downloadsFolder = \"/Users/nicolasalvarez/Downloads/\""
   ]
  },
  {
   "cell_type": "code",
   "execution_count": 14,
   "id": "a115f152-0f6f-4f5a-92e8-69a051453691",
   "metadata": {},
   "outputs": [],
   "source": [
    "if __name__ == \"__main__\":\n",
    "    for filename in os.listdir(downloadsFolder):\n",
    "        name, extension = os.path.splitext(downloadsFolder + filename)\n",
    "\n",
    "        if extension in [\".jpg\", \".jpeg\", \".png\"]:\n",
    "            picturesFolder = \"/Users/nicolasalvarez/Documents/Imagenes/\"\n",
    "            picture = Image.open(downloadsFolder + filename)\n",
    "            picture.save(picturesFolder + \"compressed_\"+filename, optimize=True, quality=60)\n",
    "            os.remove(downloadsFolder + filename)\n",
    "            print(name + \": \" + extension)\n",
    "\n",
    "        if extension in [\".pdf\", \".PDF\"]:\n",
    "            PdfFolder = \"/Users/nicolasalvarez/Documents/Pdfes/\"\n",
    "            os.rename(downloadsFolder + filename, PdfFolder + filename)\n",
    "            \n",
    "        if extension in [\".xlsx\", \".csv\", \".data\"]:\n",
    "            excelFolder = \"/Users/nicolasalvarez/Documents/Exceles/\"\n",
    "            os.rename(downloadsFolder + filename, excelFolder + filename)\n",
    "                        \n",
    "        if extension in [\".docx\"]:\n",
    "            worksFolder = \"/Users/nicolasalvarez/Documents/Works/\"\n",
    "            os.rename(downloadsFolder + filename, worksFolder + filename) \n",
    "            \n",
    "        if extension in [\".ipynb\", \".py\"]:\n",
    "            PythonFolder = \"/Users/nicolasalvarez/Documents/Pythones/\"\n",
    "            os.rename(downloadsFolder + filename, PythonFolder + filename) "
   ]
  }
 ],
 "metadata": {
  "kernelspec": {
   "display_name": "Python 3 (ipykernel)",
   "language": "python",
   "name": "python3"
  },
  "language_info": {
   "codemirror_mode": {
    "name": "ipython",
    "version": 3
   },
   "file_extension": ".py",
   "mimetype": "text/x-python",
   "name": "python",
   "nbconvert_exporter": "python",
   "pygments_lexer": "ipython3",
   "version": "3.9.7"
  }
 },
 "nbformat": 4,
 "nbformat_minor": 5
}
